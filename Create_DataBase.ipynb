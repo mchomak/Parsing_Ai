{
 "cells": [
  {
   "cell_type": "code",
   "execution_count": 1,
   "metadata": {},
   "outputs": [
    {
     "name": "stderr",
     "output_type": "stream",
     "text": [
      "C:\\Users\\Mchomak\\AppData\\Local\\Temp\\ipykernel_21076\\622182153.py:3: DeprecationWarning: `import pandas_profiling` is going to be deprecated by April 1st. Please use `import ydata_profiling` instead.\n",
      "  from pandas_profiling import ProfileReport\n"
     ]
    }
   ],
   "source": [
    "import pandas as pd\n",
    "import csv\n",
    "from pandas_profiling import ProfileReport\n",
    "import numpy as np\n",
    "import plotly.express as px"
   ]
  },
  {
   "cell_type": "code",
   "execution_count": 2,
   "metadata": {},
   "outputs": [],
   "source": [
    "# Сброс ограничений на количество выводимых рядов\n",
    "pd.set_option('display.max_rows', None)\n",
    " \n",
    "# Сброс ограничений на число столбцов\n",
    "pd.set_option('display.max_columns', None)\n",
    " \n",
    "# Сброс ограничений на количество символов в записи\n",
    "pd.set_option('display.max_colwidth', None)"
   ]
  },
  {
   "cell_type": "code",
   "execution_count": 3,
   "metadata": {},
   "outputs": [],
   "source": [
    "# df = pd.DataFrame(columns=[\"name\", \"product_link\", \"card_link\", \"data_type\", \"specialization\", \"tags\", \"descriptions\", \"price\", \"platforms\"])\n",
    "# df.to_csv('my_data.csv', index= False )"
   ]
  },
  {
   "cell_type": "code",
   "execution_count": 4,
   "metadata": {},
   "outputs": [],
   "source": [
    "def create_profile_report(df, name=\"Report\"):\n",
    "    profile = ProfileReport(df, title=str(name))\n",
    "    profile.to_notebook_iframe()\n",
    "    profile.to_file(output_file=f\"Report_{name}.html\")"
   ]
  },
  {
   "cell_type": "code",
   "execution_count": 5,
   "metadata": {},
   "outputs": [],
   "source": [
    "pre_df = pd.read_csv(\"Pre_Data.csv\")"
   ]
  },
  {
   "cell_type": "code",
   "execution_count": 6,
   "metadata": {},
   "outputs": [
    {
     "data": {
      "text/plain": [
       "(1776, 8)"
      ]
     },
     "execution_count": 6,
     "metadata": {},
     "output_type": "execute_result"
    }
   ],
   "source": [
    "pre_df.shape"
   ]
  },
  {
   "cell_type": "code",
   "execution_count": 7,
   "metadata": {},
   "outputs": [
    {
     "data": {
      "text/html": [
       "<div>\n",
       "<style scoped>\n",
       "    .dataframe tbody tr th:only-of-type {\n",
       "        vertical-align: middle;\n",
       "    }\n",
       "\n",
       "    .dataframe tbody tr th {\n",
       "        vertical-align: top;\n",
       "    }\n",
       "\n",
       "    .dataframe thead th {\n",
       "        text-align: right;\n",
       "    }\n",
       "</style>\n",
       "<table border=\"1\" class=\"dataframe\">\n",
       "  <thead>\n",
       "    <tr style=\"text-align: right;\">\n",
       "      <th></th>\n",
       "      <th>name</th>\n",
       "      <th>product_link</th>\n",
       "      <th>card_link</th>\n",
       "      <th>tags</th>\n",
       "      <th>descriptions</th>\n",
       "      <th>pricing_types</th>\n",
       "      <th>price</th>\n",
       "      <th>platforms</th>\n",
       "    </tr>\n",
       "  </thead>\n",
       "  <tbody>\n",
       "    <tr>\n",
       "      <th>0</th>\n",
       "      <td>MeetGeek</td>\n",
       "      <td>https://meetgeek.grsm.io/aiscout</td>\n",
       "      <td>https://aiscout.net/listing/meetgeek/</td>\n",
       "      <td>Meeting Assistant, Notes</td>\n",
       "      <td>MeetGeek is an AI meeting assistant that automates the process of video recording, transcribing, summarizing, and sharing key insights from every meeting. With MeetGeek, users can focus on having high-quality conversations while important information is captured and made easily accessible.AI-generated meeting summaries:Get an AI-generated summary after every meeting, eliminating the need to spend time writing follow-upsCapture and share meeting insights:Create highlights from longer meetings with just one click and make them easily accessible and shareable with your teamSearchable meeting notes:Store all your Zoom, Teams, and Google meeting notes in a single, searchable location for easy recall of past detailsIntegration with collaboration tools:Seamlessly integrate with tools like Notion, Trello, Slack, and more to share meeting recordings, summaries, or notes and create a collaborative workspace</td>\n",
       "      <td>Freemium</td>\n",
       "      <td>Paid Plans from $15/mo</td>\n",
       "      <td>Integrations/Plugins, Web</td>\n",
       "    </tr>\n",
       "    <tr>\n",
       "      <th>1</th>\n",
       "      <td>Taskade</td>\n",
       "      <td>https://www.taskade.com/?via=aiscout</td>\n",
       "      <td>https://aiscout.net/listing/taskade/</td>\n",
       "      <td>Notes, Organization, Productivity, Writing</td>\n",
       "      <td>Taskade AI is an all-in-one productivity tool that combines five powerful AI-powered features to supercharge team collaboration and efficiency. With Taskade AI, users can automate tasks, generate dynamic workflows, brainstorm in mind maps, chat with an AI assistant, and visualize notes and documents.Automate 700+ Tasks:Boost productivity by automating various tasks across marketing, sales, support, HR, startups, and agencies with the help of AI-powered chat bots, project assistants, and workflow automation.Generate Workflows:Spark creativity and streamline project management by generating dynamic to-do lists, flow charts, mind maps, org charts, and more. Visualize projects in different views like lists, boards, calendars, mind maps, org charts, and action views.Chat with AI:Bring projects to life with an AI assistant for brainstorming and task coordination. Chat with tasks, documents, and more within Taskade’s workspace.Visualize Notes:Embrace a smart outlining experience that mirrors the brain’s natural organization. Create infinite connections and levels of hierarchy in real-time sync.</td>\n",
       "      <td>Freemium</td>\n",
       "      <td>NaN</td>\n",
       "      <td>Browser Extension, Desktop App, Mobile App</td>\n",
       "    </tr>\n",
       "    <tr>\n",
       "      <th>2</th>\n",
       "      <td>Acoust</td>\n",
       "      <td>https://www.acoust.io</td>\n",
       "      <td>https://aiscout.net/listing/acoust/</td>\n",
       "      <td>Text to Speech</td>\n",
       "      <td>Acoust AI integrates a Text-to-Speech (TTS) feature, AI writing, voice cloning, translation, and video creation in a single platform, transforming written text into lifelike speech. It is designed to create engaging content including YouTube videos, audiobooks, and social content, accelerating production with its robust AI writer and video creator.Natural Sounding Text-to-Speech:Convert written text into lifelike speech using its advanced neural AI voice generator available in 30+ languagesAI Writing Assistant:Ignite creative sparks with a generative AI assistant, useful for creating audio stories, video outlines or marketing pitchesVoice Cloning:Create a high fidelity voice clone with just a few seconds of audio for seamless voice inclusion in various projectsMulti-language AI Translation:Breeze through language barriers by converting text into multiple languages</td>\n",
       "      <td>Free Trial</td>\n",
       "      <td>NaN</td>\n",
       "      <td>NaN</td>\n",
       "    </tr>\n",
       "  </tbody>\n",
       "</table>\n",
       "</div>"
      ],
      "text/plain": [
       "       name                          product_link  \\\n",
       "0  MeetGeek      https://meetgeek.grsm.io/aiscout   \n",
       "1   Taskade  https://www.taskade.com/?via=aiscout   \n",
       "2    Acoust                 https://www.acoust.io   \n",
       "\n",
       "                               card_link  \\\n",
       "0  https://aiscout.net/listing/meetgeek/   \n",
       "1   https://aiscout.net/listing/taskade/   \n",
       "2    https://aiscout.net/listing/acoust/   \n",
       "\n",
       "                                         tags  \\\n",
       "0                    Meeting Assistant, Notes   \n",
       "1  Notes, Organization, Productivity, Writing   \n",
       "2                              Text to Speech   \n",
       "\n",
       "                                                                                                                                                                                                                                                                                                                                                                                                                                                                                                                                                                                                                                                                                                                                                                                                                                                                                                                                                                                                                                                                                                                                       descriptions  \\\n",
       "0                                                                                                                                                                                                    MeetGeek is an AI meeting assistant that automates the process of video recording, transcribing, summarizing, and sharing key insights from every meeting. With MeetGeek, users can focus on having high-quality conversations while important information is captured and made easily accessible.AI-generated meeting summaries:Get an AI-generated summary after every meeting, eliminating the need to spend time writing follow-upsCapture and share meeting insights:Create highlights from longer meetings with just one click and make them easily accessible and shareable with your teamSearchable meeting notes:Store all your Zoom, Teams, and Google meeting notes in a single, searchable location for easy recall of past detailsIntegration with collaboration tools:Seamlessly integrate with tools like Notion, Trello, Slack, and more to share meeting recordings, summaries, or notes and create a collaborative workspace   \n",
       "1  Taskade AI is an all-in-one productivity tool that combines five powerful AI-powered features to supercharge team collaboration and efficiency. With Taskade AI, users can automate tasks, generate dynamic workflows, brainstorm in mind maps, chat with an AI assistant, and visualize notes and documents.Automate 700+ Tasks:Boost productivity by automating various tasks across marketing, sales, support, HR, startups, and agencies with the help of AI-powered chat bots, project assistants, and workflow automation.Generate Workflows:Spark creativity and streamline project management by generating dynamic to-do lists, flow charts, mind maps, org charts, and more. Visualize projects in different views like lists, boards, calendars, mind maps, org charts, and action views.Chat with AI:Bring projects to life with an AI assistant for brainstorming and task coordination. Chat with tasks, documents, and more within Taskade’s workspace.Visualize Notes:Embrace a smart outlining experience that mirrors the brain’s natural organization. Create infinite connections and levels of hierarchy in real-time sync.   \n",
       "2                                                                                                                                                                                                                                      Acoust AI integrates a Text-to-Speech (TTS) feature, AI writing, voice cloning, translation, and video creation in a single platform, transforming written text into lifelike speech. It is designed to create engaging content including YouTube videos, audiobooks, and social content, accelerating production with its robust AI writer and video creator.Natural Sounding Text-to-Speech:Convert written text into lifelike speech using its advanced neural AI voice generator available in 30+ languagesAI Writing Assistant:Ignite creative sparks with a generative AI assistant, useful for creating audio stories, video outlines or marketing pitchesVoice Cloning:Create a high fidelity voice clone with just a few seconds of audio for seamless voice inclusion in various projectsMulti-language AI Translation:Breeze through language barriers by converting text into multiple languages   \n",
       "\n",
       "  pricing_types                   price  \\\n",
       "0      Freemium  Paid Plans from $15/mo   \n",
       "1      Freemium                     NaN   \n",
       "2    Free Trial                     NaN   \n",
       "\n",
       "                                    platforms  \n",
       "0                   Integrations/Plugins, Web  \n",
       "1  Browser Extension, Desktop App, Mobile App  \n",
       "2                                         NaN  "
      ]
     },
     "execution_count": 7,
     "metadata": {},
     "output_type": "execute_result"
    }
   ],
   "source": [
    "pre_df.head(3)"
   ]
  },
  {
   "cell_type": "code",
   "execution_count": 8,
   "metadata": {},
   "outputs": [],
   "source": [
    "# create_profile_report(pre_df, \"first_info\")"
   ]
  },
  {
   "cell_type": "code",
   "execution_count": 9,
   "metadata": {},
   "outputs": [],
   "source": [
    "buf_df=pre_df.copy()\n",
    "df_tags = buf_df['tags'].str.get_dummies(', ').add_prefix('Tag_')"
   ]
  },
  {
   "cell_type": "code",
   "execution_count": 10,
   "metadata": {},
   "outputs": [],
   "source": [
    "buf_df=pre_df.copy()\n",
    "df_platforms = buf_df['platforms'].str.get_dummies(', ').add_prefix('Platforms_')"
   ]
  },
  {
   "cell_type": "code",
   "execution_count": 21,
   "metadata": {},
   "outputs": [
    {
     "data": {
      "text/html": [
       "<div>\n",
       "<style scoped>\n",
       "    .dataframe tbody tr th:only-of-type {\n",
       "        vertical-align: middle;\n",
       "    }\n",
       "\n",
       "    .dataframe tbody tr th {\n",
       "        vertical-align: top;\n",
       "    }\n",
       "\n",
       "    .dataframe thead th {\n",
       "        text-align: right;\n",
       "    }\n",
       "</style>\n",
       "<table border=\"1\" class=\"dataframe\">\n",
       "  <thead>\n",
       "    <tr style=\"text-align: right;\">\n",
       "      <th></th>\n",
       "      <th>name</th>\n",
       "      <th>product_link</th>\n",
       "      <th>card_link</th>\n",
       "      <th>tags</th>\n",
       "      <th>descriptions</th>\n",
       "      <th>pricing_types</th>\n",
       "      <th>price</th>\n",
       "      <th>platforms</th>\n",
       "      <th>Tag_AI Detector</th>\n",
       "      <th>Tag_AI Models</th>\n",
       "      <th>Tag_Art &amp; Image Generation</th>\n",
       "      <th>Tag_Avatars</th>\n",
       "      <th>Tag_Business Assistant</th>\n",
       "      <th>Tag_Career</th>\n",
       "      <th>Tag_Chatbot</th>\n",
       "      <th>Tag_Crypto</th>\n",
       "      <th>Tag_Customer Support</th>\n",
       "      <th>Tag_Data</th>\n",
       "      <th>Tag_Dating</th>\n",
       "      <th>Tag_Digital Marketing</th>\n",
       "      <th>Tag_Education</th>\n",
       "      <th>Tag_Emails</th>\n",
       "      <th>Tag_Fashion</th>\n",
       "      <th>Tag_Finance</th>\n",
       "      <th>Tag_Free AI Tools</th>\n",
       "      <th>Tag_Fun</th>\n",
       "      <th>Tag_Gaming</th>\n",
       "      <th>Tag_Graphic Design</th>\n",
       "      <th>Tag_Health</th>\n",
       "      <th>Tag_Human Resources</th>\n",
       "      <th>Tag_Legal</th>\n",
       "      <th>Tag_Meeting Assistant</th>\n",
       "      <th>Tag_Music &amp; Audio</th>\n",
       "      <th>Tag_Notes</th>\n",
       "      <th>Tag_Organization</th>\n",
       "      <th>Tag_Paraphraser</th>\n",
       "      <th>Tag_Personal Assistant</th>\n",
       "      <th>Tag_Photo Editing</th>\n",
       "      <th>Tag_Presentations</th>\n",
       "      <th>Tag_Productivity</th>\n",
       "      <th>Tag_Programming</th>\n",
       "      <th>Tag_Prompts</th>\n",
       "      <th>Tag_Real Estate</th>\n",
       "      <th>Tag_Research</th>\n",
       "      <th>Tag_SEO</th>\n",
       "      <th>Tag_Sales</th>\n",
       "      <th>Tag_Search Engine</th>\n",
       "      <th>Tag_Social Media</th>\n",
       "      <th>Tag_Spreadsheets</th>\n",
       "      <th>Tag_Storytelling</th>\n",
       "      <th>Tag_Text to Speech</th>\n",
       "      <th>Tag_Translation</th>\n",
       "      <th>Tag_Travel</th>\n",
       "      <th>Tag_UX Design</th>\n",
       "      <th>Tag_Video &amp; Animation</th>\n",
       "      <th>Tag_Web &amp; App Dev</th>\n",
       "      <th>Tag_Writing</th>\n",
       "      <th>Platforms_API</th>\n",
       "      <th>Platforms_Browser Extension</th>\n",
       "      <th>Platforms_ChatGPT Plugin</th>\n",
       "      <th>Platforms_Desktop App</th>\n",
       "      <th>Platforms_Discord Bot</th>\n",
       "      <th>Platforms_Figma Plugin</th>\n",
       "      <th>Platforms_Integrations/Plugins</th>\n",
       "      <th>Platforms_Mobile App</th>\n",
       "      <th>Platforms_Open Source</th>\n",
       "      <th>Platforms_Others</th>\n",
       "      <th>Platforms_SMS/Phone</th>\n",
       "      <th>Platforms_Shopify App</th>\n",
       "      <th>Platforms_Telegram Bot</th>\n",
       "      <th>Platforms_Web</th>\n",
       "      <th>Platforms_Whatsapp Bot</th>\n",
       "    </tr>\n",
       "  </thead>\n",
       "  <tbody>\n",
       "    <tr>\n",
       "      <th>0</th>\n",
       "      <td>MeetGeek</td>\n",
       "      <td>https://meetgeek.grsm.io/aiscout</td>\n",
       "      <td>https://aiscout.net/listing/meetgeek/</td>\n",
       "      <td>Meeting Assistant, Notes</td>\n",
       "      <td>MeetGeek is an AI meeting assistant that automates the process of video recording, transcribing, summarizing, and sharing key insights from every meeting. With MeetGeek, users can focus on having high-quality conversations while important information is captured and made easily accessible.AI-generated meeting summaries:Get an AI-generated summary after every meeting, eliminating the need to spend time writing follow-upsCapture and share meeting insights:Create highlights from longer meetings with just one click and make them easily accessible and shareable with your teamSearchable meeting notes:Store all your Zoom, Teams, and Google meeting notes in a single, searchable location for easy recall of past detailsIntegration with collaboration tools:Seamlessly integrate with tools like Notion, Trello, Slack, and more to share meeting recordings, summaries, or notes and create a collaborative workspace</td>\n",
       "      <td>Freemium</td>\n",
       "      <td>Paid Plans from $15/mo</td>\n",
       "      <td>Integrations/Plugins, Web</td>\n",
       "      <td>0</td>\n",
       "      <td>0</td>\n",
       "      <td>0</td>\n",
       "      <td>0</td>\n",
       "      <td>0</td>\n",
       "      <td>0</td>\n",
       "      <td>0</td>\n",
       "      <td>0</td>\n",
       "      <td>0</td>\n",
       "      <td>0</td>\n",
       "      <td>0</td>\n",
       "      <td>0</td>\n",
       "      <td>0</td>\n",
       "      <td>0</td>\n",
       "      <td>0</td>\n",
       "      <td>0</td>\n",
       "      <td>0</td>\n",
       "      <td>0</td>\n",
       "      <td>0</td>\n",
       "      <td>0</td>\n",
       "      <td>0</td>\n",
       "      <td>0</td>\n",
       "      <td>0</td>\n",
       "      <td>1</td>\n",
       "      <td>0</td>\n",
       "      <td>1</td>\n",
       "      <td>0</td>\n",
       "      <td>0</td>\n",
       "      <td>0</td>\n",
       "      <td>0</td>\n",
       "      <td>0</td>\n",
       "      <td>0</td>\n",
       "      <td>0</td>\n",
       "      <td>0</td>\n",
       "      <td>0</td>\n",
       "      <td>0</td>\n",
       "      <td>0</td>\n",
       "      <td>0</td>\n",
       "      <td>0</td>\n",
       "      <td>0</td>\n",
       "      <td>0</td>\n",
       "      <td>0</td>\n",
       "      <td>0</td>\n",
       "      <td>0</td>\n",
       "      <td>0</td>\n",
       "      <td>0</td>\n",
       "      <td>0</td>\n",
       "      <td>0</td>\n",
       "      <td>0</td>\n",
       "      <td>0</td>\n",
       "      <td>0</td>\n",
       "      <td>0</td>\n",
       "      <td>0</td>\n",
       "      <td>0</td>\n",
       "      <td>0</td>\n",
       "      <td>1</td>\n",
       "      <td>0</td>\n",
       "      <td>0</td>\n",
       "      <td>0</td>\n",
       "      <td>0</td>\n",
       "      <td>0</td>\n",
       "      <td>0</td>\n",
       "      <td>1</td>\n",
       "      <td>0</td>\n",
       "    </tr>\n",
       "  </tbody>\n",
       "</table>\n",
       "</div>"
      ],
      "text/plain": [
       "       name                      product_link  \\\n",
       "0  MeetGeek  https://meetgeek.grsm.io/aiscout   \n",
       "\n",
       "                               card_link                      tags  \\\n",
       "0  https://aiscout.net/listing/meetgeek/  Meeting Assistant, Notes   \n",
       "\n",
       "                                                                                                                                                                                                                                                                                                                                                                                                                                                                                                                                                                                                                                                                                                                                                                                                                                                                                                                                     descriptions  \\\n",
       "0  MeetGeek is an AI meeting assistant that automates the process of video recording, transcribing, summarizing, and sharing key insights from every meeting. With MeetGeek, users can focus on having high-quality conversations while important information is captured and made easily accessible.AI-generated meeting summaries:Get an AI-generated summary after every meeting, eliminating the need to spend time writing follow-upsCapture and share meeting insights:Create highlights from longer meetings with just one click and make them easily accessible and shareable with your teamSearchable meeting notes:Store all your Zoom, Teams, and Google meeting notes in a single, searchable location for easy recall of past detailsIntegration with collaboration tools:Seamlessly integrate with tools like Notion, Trello, Slack, and more to share meeting recordings, summaries, or notes and create a collaborative workspace   \n",
       "\n",
       "  pricing_types                   price                  platforms  \\\n",
       "0      Freemium  Paid Plans from $15/mo  Integrations/Plugins, Web   \n",
       "\n",
       "   Tag_AI Detector  Tag_AI Models  Tag_Art & Image Generation  Tag_Avatars  \\\n",
       "0                0              0                           0            0   \n",
       "\n",
       "   Tag_Business Assistant  Tag_Career  Tag_Chatbot  Tag_Crypto  \\\n",
       "0                       0           0            0           0   \n",
       "\n",
       "   Tag_Customer Support  Tag_Data  Tag_Dating  Tag_Digital Marketing  \\\n",
       "0                     0         0           0                      0   \n",
       "\n",
       "   Tag_Education  Tag_Emails  Tag_Fashion  Tag_Finance  Tag_Free AI Tools  \\\n",
       "0              0           0            0            0                  0   \n",
       "\n",
       "   Tag_Fun  Tag_Gaming  Tag_Graphic Design  Tag_Health  Tag_Human Resources  \\\n",
       "0        0           0                   0           0                    0   \n",
       "\n",
       "   Tag_Legal  Tag_Meeting Assistant  Tag_Music & Audio  Tag_Notes  \\\n",
       "0          0                      1                  0          1   \n",
       "\n",
       "   Tag_Organization  Tag_Paraphraser  Tag_Personal Assistant  \\\n",
       "0                 0                0                       0   \n",
       "\n",
       "   Tag_Photo Editing  Tag_Presentations  Tag_Productivity  Tag_Programming  \\\n",
       "0                  0                  0                 0                0   \n",
       "\n",
       "   Tag_Prompts  Tag_Real Estate  Tag_Research  Tag_SEO  Tag_Sales  \\\n",
       "0            0                0             0        0          0   \n",
       "\n",
       "   Tag_Search Engine  Tag_Social Media  Tag_Spreadsheets  Tag_Storytelling  \\\n",
       "0                  0                 0                 0                 0   \n",
       "\n",
       "   Tag_Text to Speech  Tag_Translation  Tag_Travel  Tag_UX Design  \\\n",
       "0                   0                0           0              0   \n",
       "\n",
       "   Tag_Video & Animation  Tag_Web & App Dev  Tag_Writing  Platforms_API  \\\n",
       "0                      0                  0            0              0   \n",
       "\n",
       "   Platforms_Browser Extension  Platforms_ChatGPT Plugin  \\\n",
       "0                            0                         0   \n",
       "\n",
       "   Platforms_Desktop App  Platforms_Discord Bot  Platforms_Figma Plugin  \\\n",
       "0                      0                      0                       0   \n",
       "\n",
       "   Platforms_Integrations/Plugins  Platforms_Mobile App  \\\n",
       "0                               1                     0   \n",
       "\n",
       "   Platforms_Open Source  Platforms_Others  Platforms_SMS/Phone  \\\n",
       "0                      0                 0                    0   \n",
       "\n",
       "   Platforms_Shopify App  Platforms_Telegram Bot  Platforms_Web  \\\n",
       "0                      0                       0              1   \n",
       "\n",
       "   Platforms_Whatsapp Bot  \n",
       "0                       0  "
      ]
     },
     "execution_count": 21,
     "metadata": {},
     "output_type": "execute_result"
    }
   ],
   "source": [
    "bin_df=pd.concat([pre_df, df_tags, df_platforms], axis=1)\n",
    "bin_df.head(1)"
   ]
  },
  {
   "cell_type": "code",
   "execution_count": 12,
   "metadata": {},
   "outputs": [],
   "source": [
    "# create_profile_report(bin_df, \"after_bin\")"
   ]
  },
  {
   "cell_type": "code",
   "execution_count": 13,
   "metadata": {},
   "outputs": [],
   "source": [
    "bin_df.to_csv('bin_df.csv', index = False)"
   ]
  },
  {
   "cell_type": "code",
   "execution_count": 14,
   "metadata": {},
   "outputs": [],
   "source": [
    "procents, tag_columns = [], []\n",
    "all_cards=bin_df.shape[0]\n",
    "\n",
    "for col in bin_df.columns:\n",
    "    if \"Tag_\" in str(col):\n",
    "        proc = bin_df[col].sum()\n",
    "        proc = proc/all_cards*100\n",
    "        procents.append(round(proc, 1))\n",
    "        tag_columns.append(col.replace(\"Tag_\", \"\"))\n",
    "\n",
    "prc_df = pd.DataFrame({\n",
    "    \"Tag_name\":tag_columns,\n",
    "    \"Procent\":procents,\n",
    "})\n",
    "prc_df=prc_df.sort_values(by=[\"Procent\"], ascending=[False])"
   ]
  },
  {
   "cell_type": "code",
   "execution_count": 15,
   "metadata": {},
   "outputs": [
    {
     "data": {
      "application/vnd.plotly.v1+json": {
       "config": {
        "plotlyServerURL": "https://plot.ly"
       },
       "data": [
        {
         "alignmentgroup": "True",
         "bingroup": "x",
         "histfunc": "sum",
         "hovertemplate": "Tag_name=%{x}<br>sum of Procent=%{y}<extra></extra>",
         "legendgroup": "",
         "marker": {
          "color": "#636efa",
          "pattern": {
           "shape": ""
          }
         },
         "name": "",
         "offsetgroup": "",
         "orientation": "v",
         "showlegend": false,
         "texttemplate": "%{value}",
         "type": "histogram",
         "x": [
          "Free AI Tools",
          "Writing",
          "Chatbot",
          "Productivity",
          "Business Assistant",
          "Art & Image Generation",
          "Personal Assistant",
          "Customer Support",
          "Digital Marketing",
          "Web & App Dev",
          "Video & Animation",
          "Education",
          "Fun",
          "Music & Audio",
          "Sales",
          "Graphic Design",
          "Programming",
          "Emails",
          "Social Media",
          "Organization",
          "Notes",
          "Data",
          "SEO",
          "Prompts",
          "Meeting Assistant",
          "Paraphraser",
          "AI Models",
          "Research",
          "Legal",
          "Finance",
          "Real Estate",
          "Career",
          "Avatars",
          "Photo Editing",
          "Human Resources",
          "Presentations",
          "Text to Speech",
          "Storytelling",
          "Health",
          "Travel",
          "UX Design",
          "Search Engine",
          "Dating",
          "Spreadsheets",
          "Translation",
          "AI Detector",
          "Fashion",
          "Gaming",
          "Crypto"
         ],
         "xaxis": "x",
         "y": [
          18.9,
          16.7,
          13.8,
          13.7,
          10.8,
          10.4,
          8.7,
          8.4,
          7.9,
          6.5,
          6.1,
          6,
          5.6,
          5.3,
          5.2,
          5.1,
          4.6,
          4.5,
          4.3,
          4.3,
          4.2,
          4.2,
          4.1,
          3.2,
          3,
          2.6,
          2.5,
          2.5,
          2.4,
          2.4,
          2.4,
          2.2,
          2.2,
          2.1,
          2.1,
          1.8,
          1.7,
          1.5,
          1.5,
          1.4,
          1.4,
          1.4,
          1.4,
          1.2,
          1,
          0.8,
          0.6,
          0.6,
          0.1
         ],
         "yaxis": "y"
        }
       ],
       "layout": {
        "barmode": "relative",
        "legend": {
         "tracegroupgap": 0
        },
        "margin": {
         "t": 60
        },
        "template": {
         "data": {
          "bar": [
           {
            "error_x": {
             "color": "#2a3f5f"
            },
            "error_y": {
             "color": "#2a3f5f"
            },
            "marker": {
             "line": {
              "color": "#E5ECF6",
              "width": 0.5
             },
             "pattern": {
              "fillmode": "overlay",
              "size": 10,
              "solidity": 0.2
             }
            },
            "type": "bar"
           }
          ],
          "barpolar": [
           {
            "marker": {
             "line": {
              "color": "#E5ECF6",
              "width": 0.5
             },
             "pattern": {
              "fillmode": "overlay",
              "size": 10,
              "solidity": 0.2
             }
            },
            "type": "barpolar"
           }
          ],
          "carpet": [
           {
            "aaxis": {
             "endlinecolor": "#2a3f5f",
             "gridcolor": "white",
             "linecolor": "white",
             "minorgridcolor": "white",
             "startlinecolor": "#2a3f5f"
            },
            "baxis": {
             "endlinecolor": "#2a3f5f",
             "gridcolor": "white",
             "linecolor": "white",
             "minorgridcolor": "white",
             "startlinecolor": "#2a3f5f"
            },
            "type": "carpet"
           }
          ],
          "choropleth": [
           {
            "colorbar": {
             "outlinewidth": 0,
             "ticks": ""
            },
            "type": "choropleth"
           }
          ],
          "contour": [
           {
            "colorbar": {
             "outlinewidth": 0,
             "ticks": ""
            },
            "colorscale": [
             [
              0,
              "#0d0887"
             ],
             [
              0.1111111111111111,
              "#46039f"
             ],
             [
              0.2222222222222222,
              "#7201a8"
             ],
             [
              0.3333333333333333,
              "#9c179e"
             ],
             [
              0.4444444444444444,
              "#bd3786"
             ],
             [
              0.5555555555555556,
              "#d8576b"
             ],
             [
              0.6666666666666666,
              "#ed7953"
             ],
             [
              0.7777777777777778,
              "#fb9f3a"
             ],
             [
              0.8888888888888888,
              "#fdca26"
             ],
             [
              1,
              "#f0f921"
             ]
            ],
            "type": "contour"
           }
          ],
          "contourcarpet": [
           {
            "colorbar": {
             "outlinewidth": 0,
             "ticks": ""
            },
            "type": "contourcarpet"
           }
          ],
          "heatmap": [
           {
            "colorbar": {
             "outlinewidth": 0,
             "ticks": ""
            },
            "colorscale": [
             [
              0,
              "#0d0887"
             ],
             [
              0.1111111111111111,
              "#46039f"
             ],
             [
              0.2222222222222222,
              "#7201a8"
             ],
             [
              0.3333333333333333,
              "#9c179e"
             ],
             [
              0.4444444444444444,
              "#bd3786"
             ],
             [
              0.5555555555555556,
              "#d8576b"
             ],
             [
              0.6666666666666666,
              "#ed7953"
             ],
             [
              0.7777777777777778,
              "#fb9f3a"
             ],
             [
              0.8888888888888888,
              "#fdca26"
             ],
             [
              1,
              "#f0f921"
             ]
            ],
            "type": "heatmap"
           }
          ],
          "heatmapgl": [
           {
            "colorbar": {
             "outlinewidth": 0,
             "ticks": ""
            },
            "colorscale": [
             [
              0,
              "#0d0887"
             ],
             [
              0.1111111111111111,
              "#46039f"
             ],
             [
              0.2222222222222222,
              "#7201a8"
             ],
             [
              0.3333333333333333,
              "#9c179e"
             ],
             [
              0.4444444444444444,
              "#bd3786"
             ],
             [
              0.5555555555555556,
              "#d8576b"
             ],
             [
              0.6666666666666666,
              "#ed7953"
             ],
             [
              0.7777777777777778,
              "#fb9f3a"
             ],
             [
              0.8888888888888888,
              "#fdca26"
             ],
             [
              1,
              "#f0f921"
             ]
            ],
            "type": "heatmapgl"
           }
          ],
          "histogram": [
           {
            "marker": {
             "pattern": {
              "fillmode": "overlay",
              "size": 10,
              "solidity": 0.2
             }
            },
            "type": "histogram"
           }
          ],
          "histogram2d": [
           {
            "colorbar": {
             "outlinewidth": 0,
             "ticks": ""
            },
            "colorscale": [
             [
              0,
              "#0d0887"
             ],
             [
              0.1111111111111111,
              "#46039f"
             ],
             [
              0.2222222222222222,
              "#7201a8"
             ],
             [
              0.3333333333333333,
              "#9c179e"
             ],
             [
              0.4444444444444444,
              "#bd3786"
             ],
             [
              0.5555555555555556,
              "#d8576b"
             ],
             [
              0.6666666666666666,
              "#ed7953"
             ],
             [
              0.7777777777777778,
              "#fb9f3a"
             ],
             [
              0.8888888888888888,
              "#fdca26"
             ],
             [
              1,
              "#f0f921"
             ]
            ],
            "type": "histogram2d"
           }
          ],
          "histogram2dcontour": [
           {
            "colorbar": {
             "outlinewidth": 0,
             "ticks": ""
            },
            "colorscale": [
             [
              0,
              "#0d0887"
             ],
             [
              0.1111111111111111,
              "#46039f"
             ],
             [
              0.2222222222222222,
              "#7201a8"
             ],
             [
              0.3333333333333333,
              "#9c179e"
             ],
             [
              0.4444444444444444,
              "#bd3786"
             ],
             [
              0.5555555555555556,
              "#d8576b"
             ],
             [
              0.6666666666666666,
              "#ed7953"
             ],
             [
              0.7777777777777778,
              "#fb9f3a"
             ],
             [
              0.8888888888888888,
              "#fdca26"
             ],
             [
              1,
              "#f0f921"
             ]
            ],
            "type": "histogram2dcontour"
           }
          ],
          "mesh3d": [
           {
            "colorbar": {
             "outlinewidth": 0,
             "ticks": ""
            },
            "type": "mesh3d"
           }
          ],
          "parcoords": [
           {
            "line": {
             "colorbar": {
              "outlinewidth": 0,
              "ticks": ""
             }
            },
            "type": "parcoords"
           }
          ],
          "pie": [
           {
            "automargin": true,
            "type": "pie"
           }
          ],
          "scatter": [
           {
            "fillpattern": {
             "fillmode": "overlay",
             "size": 10,
             "solidity": 0.2
            },
            "type": "scatter"
           }
          ],
          "scatter3d": [
           {
            "line": {
             "colorbar": {
              "outlinewidth": 0,
              "ticks": ""
             }
            },
            "marker": {
             "colorbar": {
              "outlinewidth": 0,
              "ticks": ""
             }
            },
            "type": "scatter3d"
           }
          ],
          "scattercarpet": [
           {
            "marker": {
             "colorbar": {
              "outlinewidth": 0,
              "ticks": ""
             }
            },
            "type": "scattercarpet"
           }
          ],
          "scattergeo": [
           {
            "marker": {
             "colorbar": {
              "outlinewidth": 0,
              "ticks": ""
             }
            },
            "type": "scattergeo"
           }
          ],
          "scattergl": [
           {
            "marker": {
             "colorbar": {
              "outlinewidth": 0,
              "ticks": ""
             }
            },
            "type": "scattergl"
           }
          ],
          "scattermapbox": [
           {
            "marker": {
             "colorbar": {
              "outlinewidth": 0,
              "ticks": ""
             }
            },
            "type": "scattermapbox"
           }
          ],
          "scatterpolar": [
           {
            "marker": {
             "colorbar": {
              "outlinewidth": 0,
              "ticks": ""
             }
            },
            "type": "scatterpolar"
           }
          ],
          "scatterpolargl": [
           {
            "marker": {
             "colorbar": {
              "outlinewidth": 0,
              "ticks": ""
             }
            },
            "type": "scatterpolargl"
           }
          ],
          "scatterternary": [
           {
            "marker": {
             "colorbar": {
              "outlinewidth": 0,
              "ticks": ""
             }
            },
            "type": "scatterternary"
           }
          ],
          "surface": [
           {
            "colorbar": {
             "outlinewidth": 0,
             "ticks": ""
            },
            "colorscale": [
             [
              0,
              "#0d0887"
             ],
             [
              0.1111111111111111,
              "#46039f"
             ],
             [
              0.2222222222222222,
              "#7201a8"
             ],
             [
              0.3333333333333333,
              "#9c179e"
             ],
             [
              0.4444444444444444,
              "#bd3786"
             ],
             [
              0.5555555555555556,
              "#d8576b"
             ],
             [
              0.6666666666666666,
              "#ed7953"
             ],
             [
              0.7777777777777778,
              "#fb9f3a"
             ],
             [
              0.8888888888888888,
              "#fdca26"
             ],
             [
              1,
              "#f0f921"
             ]
            ],
            "type": "surface"
           }
          ],
          "table": [
           {
            "cells": {
             "fill": {
              "color": "#EBF0F8"
             },
             "line": {
              "color": "white"
             }
            },
            "header": {
             "fill": {
              "color": "#C8D4E3"
             },
             "line": {
              "color": "white"
             }
            },
            "type": "table"
           }
          ]
         },
         "layout": {
          "annotationdefaults": {
           "arrowcolor": "#2a3f5f",
           "arrowhead": 0,
           "arrowwidth": 1
          },
          "autotypenumbers": "strict",
          "coloraxis": {
           "colorbar": {
            "outlinewidth": 0,
            "ticks": ""
           }
          },
          "colorscale": {
           "diverging": [
            [
             0,
             "#8e0152"
            ],
            [
             0.1,
             "#c51b7d"
            ],
            [
             0.2,
             "#de77ae"
            ],
            [
             0.3,
             "#f1b6da"
            ],
            [
             0.4,
             "#fde0ef"
            ],
            [
             0.5,
             "#f7f7f7"
            ],
            [
             0.6,
             "#e6f5d0"
            ],
            [
             0.7,
             "#b8e186"
            ],
            [
             0.8,
             "#7fbc41"
            ],
            [
             0.9,
             "#4d9221"
            ],
            [
             1,
             "#276419"
            ]
           ],
           "sequential": [
            [
             0,
             "#0d0887"
            ],
            [
             0.1111111111111111,
             "#46039f"
            ],
            [
             0.2222222222222222,
             "#7201a8"
            ],
            [
             0.3333333333333333,
             "#9c179e"
            ],
            [
             0.4444444444444444,
             "#bd3786"
            ],
            [
             0.5555555555555556,
             "#d8576b"
            ],
            [
             0.6666666666666666,
             "#ed7953"
            ],
            [
             0.7777777777777778,
             "#fb9f3a"
            ],
            [
             0.8888888888888888,
             "#fdca26"
            ],
            [
             1,
             "#f0f921"
            ]
           ],
           "sequentialminus": [
            [
             0,
             "#0d0887"
            ],
            [
             0.1111111111111111,
             "#46039f"
            ],
            [
             0.2222222222222222,
             "#7201a8"
            ],
            [
             0.3333333333333333,
             "#9c179e"
            ],
            [
             0.4444444444444444,
             "#bd3786"
            ],
            [
             0.5555555555555556,
             "#d8576b"
            ],
            [
             0.6666666666666666,
             "#ed7953"
            ],
            [
             0.7777777777777778,
             "#fb9f3a"
            ],
            [
             0.8888888888888888,
             "#fdca26"
            ],
            [
             1,
             "#f0f921"
            ]
           ]
          },
          "colorway": [
           "#636efa",
           "#EF553B",
           "#00cc96",
           "#ab63fa",
           "#FFA15A",
           "#19d3f3",
           "#FF6692",
           "#B6E880",
           "#FF97FF",
           "#FECB52"
          ],
          "font": {
           "color": "#2a3f5f"
          },
          "geo": {
           "bgcolor": "white",
           "lakecolor": "white",
           "landcolor": "#E5ECF6",
           "showlakes": true,
           "showland": true,
           "subunitcolor": "white"
          },
          "hoverlabel": {
           "align": "left"
          },
          "hovermode": "closest",
          "mapbox": {
           "style": "light"
          },
          "paper_bgcolor": "white",
          "plot_bgcolor": "#E5ECF6",
          "polar": {
           "angularaxis": {
            "gridcolor": "white",
            "linecolor": "white",
            "ticks": ""
           },
           "bgcolor": "#E5ECF6",
           "radialaxis": {
            "gridcolor": "white",
            "linecolor": "white",
            "ticks": ""
           }
          },
          "scene": {
           "xaxis": {
            "backgroundcolor": "#E5ECF6",
            "gridcolor": "white",
            "gridwidth": 2,
            "linecolor": "white",
            "showbackground": true,
            "ticks": "",
            "zerolinecolor": "white"
           },
           "yaxis": {
            "backgroundcolor": "#E5ECF6",
            "gridcolor": "white",
            "gridwidth": 2,
            "linecolor": "white",
            "showbackground": true,
            "ticks": "",
            "zerolinecolor": "white"
           },
           "zaxis": {
            "backgroundcolor": "#E5ECF6",
            "gridcolor": "white",
            "gridwidth": 2,
            "linecolor": "white",
            "showbackground": true,
            "ticks": "",
            "zerolinecolor": "white"
           }
          },
          "shapedefaults": {
           "line": {
            "color": "#2a3f5f"
           }
          },
          "ternary": {
           "aaxis": {
            "gridcolor": "white",
            "linecolor": "white",
            "ticks": ""
           },
           "baxis": {
            "gridcolor": "white",
            "linecolor": "white",
            "ticks": ""
           },
           "bgcolor": "#E5ECF6",
           "caxis": {
            "gridcolor": "white",
            "linecolor": "white",
            "ticks": ""
           }
          },
          "title": {
           "x": 0.05
          },
          "xaxis": {
           "automargin": true,
           "gridcolor": "white",
           "linecolor": "white",
           "ticks": "",
           "title": {
            "standoff": 15
           },
           "zerolinecolor": "white",
           "zerolinewidth": 2
          },
          "yaxis": {
           "automargin": true,
           "gridcolor": "white",
           "linecolor": "white",
           "ticks": "",
           "title": {
            "standoff": 15
           },
           "zerolinecolor": "white",
           "zerolinewidth": 2
          }
         }
        },
        "xaxis": {
         "anchor": "y",
         "domain": [
          0,
          1
         ],
         "title": {
          "text": "Tag_name"
         }
        },
        "yaxis": {
         "anchor": "x",
         "domain": [
          0,
          1
         ],
         "title": {
          "text": "sum of Procent"
         }
        }
       }
      }
     },
     "metadata": {},
     "output_type": "display_data"
    }
   ],
   "source": [
    "fig = px.histogram(prc_df, x=\"Tag_name\", y=\"Procent\", text_auto=True)\n",
    "fig.show()"
   ]
  },
  {
   "cell_type": "code",
   "execution_count": 16,
   "metadata": {},
   "outputs": [],
   "source": [
    "tag_procent = {\"Other\":0}\n",
    "all_cards=bin_df.shape[0]\n",
    "\n",
    "for col in bin_df.columns:\n",
    "    if \"Tag_\" in str(col):\n",
    "        model_cnt = bin_df[col].sum()\n",
    "        if model_cnt >= 100:\n",
    "            tag_procent[col.replace(\"Tag_\", \"\")] = model_cnt\n",
    "        else:\n",
    "            tag_procent[\"Other\"] += model_cnt\n",
    "\n",
    "prc_df_with_other = pd.DataFrame({\n",
    "    \"Tag_name\":tag_procent.keys(),\n",
    "    \"Procent\":tag_procent.values(),\n",
    "})\n",
    "prc_df_with_other=prc_df_with_other.sort_values(by=[\"Procent\"], ascending=[False]).reset_index(drop= True)"
   ]
  },
  {
   "cell_type": "code",
   "execution_count": 17,
   "metadata": {},
   "outputs": [
    {
     "data": {
      "application/vnd.plotly.v1+json": {
       "config": {
        "plotlyServerURL": "https://plot.ly"
       },
       "data": [
        {
         "domain": {
          "x": [
           0,
           1
          ],
          "y": [
           0,
           1
          ]
         },
         "hovertemplate": "Tag_name=%{label}<br>Procent=%{value}<extra></extra>",
         "labels": [
          "Other",
          "Free AI Tools",
          "Writing",
          "Chatbot",
          "Productivity",
          "Business Assistant",
          "Art & Image Generation",
          "Personal Assistant",
          "Customer Support",
          "Digital Marketing",
          "Web & App Dev",
          "Video & Animation",
          "Education"
         ],
         "legendgroup": "",
         "name": "",
         "showlegend": true,
         "type": "pie",
         "values": [
          1725,
          335,
          297,
          245,
          243,
          191,
          185,
          155,
          149,
          141,
          115,
          109,
          106
         ]
        }
       ],
       "layout": {
        "legend": {
         "tracegroupgap": 0
        },
        "template": {
         "data": {
          "bar": [
           {
            "error_x": {
             "color": "#2a3f5f"
            },
            "error_y": {
             "color": "#2a3f5f"
            },
            "marker": {
             "line": {
              "color": "#E5ECF6",
              "width": 0.5
             },
             "pattern": {
              "fillmode": "overlay",
              "size": 10,
              "solidity": 0.2
             }
            },
            "type": "bar"
           }
          ],
          "barpolar": [
           {
            "marker": {
             "line": {
              "color": "#E5ECF6",
              "width": 0.5
             },
             "pattern": {
              "fillmode": "overlay",
              "size": 10,
              "solidity": 0.2
             }
            },
            "type": "barpolar"
           }
          ],
          "carpet": [
           {
            "aaxis": {
             "endlinecolor": "#2a3f5f",
             "gridcolor": "white",
             "linecolor": "white",
             "minorgridcolor": "white",
             "startlinecolor": "#2a3f5f"
            },
            "baxis": {
             "endlinecolor": "#2a3f5f",
             "gridcolor": "white",
             "linecolor": "white",
             "minorgridcolor": "white",
             "startlinecolor": "#2a3f5f"
            },
            "type": "carpet"
           }
          ],
          "choropleth": [
           {
            "colorbar": {
             "outlinewidth": 0,
             "ticks": ""
            },
            "type": "choropleth"
           }
          ],
          "contour": [
           {
            "colorbar": {
             "outlinewidth": 0,
             "ticks": ""
            },
            "colorscale": [
             [
              0,
              "#0d0887"
             ],
             [
              0.1111111111111111,
              "#46039f"
             ],
             [
              0.2222222222222222,
              "#7201a8"
             ],
             [
              0.3333333333333333,
              "#9c179e"
             ],
             [
              0.4444444444444444,
              "#bd3786"
             ],
             [
              0.5555555555555556,
              "#d8576b"
             ],
             [
              0.6666666666666666,
              "#ed7953"
             ],
             [
              0.7777777777777778,
              "#fb9f3a"
             ],
             [
              0.8888888888888888,
              "#fdca26"
             ],
             [
              1,
              "#f0f921"
             ]
            ],
            "type": "contour"
           }
          ],
          "contourcarpet": [
           {
            "colorbar": {
             "outlinewidth": 0,
             "ticks": ""
            },
            "type": "contourcarpet"
           }
          ],
          "heatmap": [
           {
            "colorbar": {
             "outlinewidth": 0,
             "ticks": ""
            },
            "colorscale": [
             [
              0,
              "#0d0887"
             ],
             [
              0.1111111111111111,
              "#46039f"
             ],
             [
              0.2222222222222222,
              "#7201a8"
             ],
             [
              0.3333333333333333,
              "#9c179e"
             ],
             [
              0.4444444444444444,
              "#bd3786"
             ],
             [
              0.5555555555555556,
              "#d8576b"
             ],
             [
              0.6666666666666666,
              "#ed7953"
             ],
             [
              0.7777777777777778,
              "#fb9f3a"
             ],
             [
              0.8888888888888888,
              "#fdca26"
             ],
             [
              1,
              "#f0f921"
             ]
            ],
            "type": "heatmap"
           }
          ],
          "heatmapgl": [
           {
            "colorbar": {
             "outlinewidth": 0,
             "ticks": ""
            },
            "colorscale": [
             [
              0,
              "#0d0887"
             ],
             [
              0.1111111111111111,
              "#46039f"
             ],
             [
              0.2222222222222222,
              "#7201a8"
             ],
             [
              0.3333333333333333,
              "#9c179e"
             ],
             [
              0.4444444444444444,
              "#bd3786"
             ],
             [
              0.5555555555555556,
              "#d8576b"
             ],
             [
              0.6666666666666666,
              "#ed7953"
             ],
             [
              0.7777777777777778,
              "#fb9f3a"
             ],
             [
              0.8888888888888888,
              "#fdca26"
             ],
             [
              1,
              "#f0f921"
             ]
            ],
            "type": "heatmapgl"
           }
          ],
          "histogram": [
           {
            "marker": {
             "pattern": {
              "fillmode": "overlay",
              "size": 10,
              "solidity": 0.2
             }
            },
            "type": "histogram"
           }
          ],
          "histogram2d": [
           {
            "colorbar": {
             "outlinewidth": 0,
             "ticks": ""
            },
            "colorscale": [
             [
              0,
              "#0d0887"
             ],
             [
              0.1111111111111111,
              "#46039f"
             ],
             [
              0.2222222222222222,
              "#7201a8"
             ],
             [
              0.3333333333333333,
              "#9c179e"
             ],
             [
              0.4444444444444444,
              "#bd3786"
             ],
             [
              0.5555555555555556,
              "#d8576b"
             ],
             [
              0.6666666666666666,
              "#ed7953"
             ],
             [
              0.7777777777777778,
              "#fb9f3a"
             ],
             [
              0.8888888888888888,
              "#fdca26"
             ],
             [
              1,
              "#f0f921"
             ]
            ],
            "type": "histogram2d"
           }
          ],
          "histogram2dcontour": [
           {
            "colorbar": {
             "outlinewidth": 0,
             "ticks": ""
            },
            "colorscale": [
             [
              0,
              "#0d0887"
             ],
             [
              0.1111111111111111,
              "#46039f"
             ],
             [
              0.2222222222222222,
              "#7201a8"
             ],
             [
              0.3333333333333333,
              "#9c179e"
             ],
             [
              0.4444444444444444,
              "#bd3786"
             ],
             [
              0.5555555555555556,
              "#d8576b"
             ],
             [
              0.6666666666666666,
              "#ed7953"
             ],
             [
              0.7777777777777778,
              "#fb9f3a"
             ],
             [
              0.8888888888888888,
              "#fdca26"
             ],
             [
              1,
              "#f0f921"
             ]
            ],
            "type": "histogram2dcontour"
           }
          ],
          "mesh3d": [
           {
            "colorbar": {
             "outlinewidth": 0,
             "ticks": ""
            },
            "type": "mesh3d"
           }
          ],
          "parcoords": [
           {
            "line": {
             "colorbar": {
              "outlinewidth": 0,
              "ticks": ""
             }
            },
            "type": "parcoords"
           }
          ],
          "pie": [
           {
            "automargin": true,
            "type": "pie"
           }
          ],
          "scatter": [
           {
            "fillpattern": {
             "fillmode": "overlay",
             "size": 10,
             "solidity": 0.2
            },
            "type": "scatter"
           }
          ],
          "scatter3d": [
           {
            "line": {
             "colorbar": {
              "outlinewidth": 0,
              "ticks": ""
             }
            },
            "marker": {
             "colorbar": {
              "outlinewidth": 0,
              "ticks": ""
             }
            },
            "type": "scatter3d"
           }
          ],
          "scattercarpet": [
           {
            "marker": {
             "colorbar": {
              "outlinewidth": 0,
              "ticks": ""
             }
            },
            "type": "scattercarpet"
           }
          ],
          "scattergeo": [
           {
            "marker": {
             "colorbar": {
              "outlinewidth": 0,
              "ticks": ""
             }
            },
            "type": "scattergeo"
           }
          ],
          "scattergl": [
           {
            "marker": {
             "colorbar": {
              "outlinewidth": 0,
              "ticks": ""
             }
            },
            "type": "scattergl"
           }
          ],
          "scattermapbox": [
           {
            "marker": {
             "colorbar": {
              "outlinewidth": 0,
              "ticks": ""
             }
            },
            "type": "scattermapbox"
           }
          ],
          "scatterpolar": [
           {
            "marker": {
             "colorbar": {
              "outlinewidth": 0,
              "ticks": ""
             }
            },
            "type": "scatterpolar"
           }
          ],
          "scatterpolargl": [
           {
            "marker": {
             "colorbar": {
              "outlinewidth": 0,
              "ticks": ""
             }
            },
            "type": "scatterpolargl"
           }
          ],
          "scatterternary": [
           {
            "marker": {
             "colorbar": {
              "outlinewidth": 0,
              "ticks": ""
             }
            },
            "type": "scatterternary"
           }
          ],
          "surface": [
           {
            "colorbar": {
             "outlinewidth": 0,
             "ticks": ""
            },
            "colorscale": [
             [
              0,
              "#0d0887"
             ],
             [
              0.1111111111111111,
              "#46039f"
             ],
             [
              0.2222222222222222,
              "#7201a8"
             ],
             [
              0.3333333333333333,
              "#9c179e"
             ],
             [
              0.4444444444444444,
              "#bd3786"
             ],
             [
              0.5555555555555556,
              "#d8576b"
             ],
             [
              0.6666666666666666,
              "#ed7953"
             ],
             [
              0.7777777777777778,
              "#fb9f3a"
             ],
             [
              0.8888888888888888,
              "#fdca26"
             ],
             [
              1,
              "#f0f921"
             ]
            ],
            "type": "surface"
           }
          ],
          "table": [
           {
            "cells": {
             "fill": {
              "color": "#EBF0F8"
             },
             "line": {
              "color": "white"
             }
            },
            "header": {
             "fill": {
              "color": "#C8D4E3"
             },
             "line": {
              "color": "white"
             }
            },
            "type": "table"
           }
          ]
         },
         "layout": {
          "annotationdefaults": {
           "arrowcolor": "#2a3f5f",
           "arrowhead": 0,
           "arrowwidth": 1
          },
          "autotypenumbers": "strict",
          "coloraxis": {
           "colorbar": {
            "outlinewidth": 0,
            "ticks": ""
           }
          },
          "colorscale": {
           "diverging": [
            [
             0,
             "#8e0152"
            ],
            [
             0.1,
             "#c51b7d"
            ],
            [
             0.2,
             "#de77ae"
            ],
            [
             0.3,
             "#f1b6da"
            ],
            [
             0.4,
             "#fde0ef"
            ],
            [
             0.5,
             "#f7f7f7"
            ],
            [
             0.6,
             "#e6f5d0"
            ],
            [
             0.7,
             "#b8e186"
            ],
            [
             0.8,
             "#7fbc41"
            ],
            [
             0.9,
             "#4d9221"
            ],
            [
             1,
             "#276419"
            ]
           ],
           "sequential": [
            [
             0,
             "#0d0887"
            ],
            [
             0.1111111111111111,
             "#46039f"
            ],
            [
             0.2222222222222222,
             "#7201a8"
            ],
            [
             0.3333333333333333,
             "#9c179e"
            ],
            [
             0.4444444444444444,
             "#bd3786"
            ],
            [
             0.5555555555555556,
             "#d8576b"
            ],
            [
             0.6666666666666666,
             "#ed7953"
            ],
            [
             0.7777777777777778,
             "#fb9f3a"
            ],
            [
             0.8888888888888888,
             "#fdca26"
            ],
            [
             1,
             "#f0f921"
            ]
           ],
           "sequentialminus": [
            [
             0,
             "#0d0887"
            ],
            [
             0.1111111111111111,
             "#46039f"
            ],
            [
             0.2222222222222222,
             "#7201a8"
            ],
            [
             0.3333333333333333,
             "#9c179e"
            ],
            [
             0.4444444444444444,
             "#bd3786"
            ],
            [
             0.5555555555555556,
             "#d8576b"
            ],
            [
             0.6666666666666666,
             "#ed7953"
            ],
            [
             0.7777777777777778,
             "#fb9f3a"
            ],
            [
             0.8888888888888888,
             "#fdca26"
            ],
            [
             1,
             "#f0f921"
            ]
           ]
          },
          "colorway": [
           "#636efa",
           "#EF553B",
           "#00cc96",
           "#ab63fa",
           "#FFA15A",
           "#19d3f3",
           "#FF6692",
           "#B6E880",
           "#FF97FF",
           "#FECB52"
          ],
          "font": {
           "color": "#2a3f5f"
          },
          "geo": {
           "bgcolor": "white",
           "lakecolor": "white",
           "landcolor": "#E5ECF6",
           "showlakes": true,
           "showland": true,
           "subunitcolor": "white"
          },
          "hoverlabel": {
           "align": "left"
          },
          "hovermode": "closest",
          "mapbox": {
           "style": "light"
          },
          "paper_bgcolor": "white",
          "plot_bgcolor": "#E5ECF6",
          "polar": {
           "angularaxis": {
            "gridcolor": "white",
            "linecolor": "white",
            "ticks": ""
           },
           "bgcolor": "#E5ECF6",
           "radialaxis": {
            "gridcolor": "white",
            "linecolor": "white",
            "ticks": ""
           }
          },
          "scene": {
           "xaxis": {
            "backgroundcolor": "#E5ECF6",
            "gridcolor": "white",
            "gridwidth": 2,
            "linecolor": "white",
            "showbackground": true,
            "ticks": "",
            "zerolinecolor": "white"
           },
           "yaxis": {
            "backgroundcolor": "#E5ECF6",
            "gridcolor": "white",
            "gridwidth": 2,
            "linecolor": "white",
            "showbackground": true,
            "ticks": "",
            "zerolinecolor": "white"
           },
           "zaxis": {
            "backgroundcolor": "#E5ECF6",
            "gridcolor": "white",
            "gridwidth": 2,
            "linecolor": "white",
            "showbackground": true,
            "ticks": "",
            "zerolinecolor": "white"
           }
          },
          "shapedefaults": {
           "line": {
            "color": "#2a3f5f"
           }
          },
          "ternary": {
           "aaxis": {
            "gridcolor": "white",
            "linecolor": "white",
            "ticks": ""
           },
           "baxis": {
            "gridcolor": "white",
            "linecolor": "white",
            "ticks": ""
           },
           "bgcolor": "#E5ECF6",
           "caxis": {
            "gridcolor": "white",
            "linecolor": "white",
            "ticks": ""
           }
          },
          "title": {
           "x": 0.05
          },
          "xaxis": {
           "automargin": true,
           "gridcolor": "white",
           "linecolor": "white",
           "ticks": "",
           "title": {
            "standoff": 15
           },
           "zerolinecolor": "white",
           "zerolinewidth": 2
          },
          "yaxis": {
           "automargin": true,
           "gridcolor": "white",
           "linecolor": "white",
           "ticks": "",
           "title": {
            "standoff": 15
           },
           "zerolinecolor": "white",
           "zerolinewidth": 2
          }
         }
        },
        "title": {
         "text": "Tags/Model count"
        }
       }
      }
     },
     "metadata": {},
     "output_type": "display_data"
    }
   ],
   "source": [
    "fig_pie = px.pie(prc_df_with_other, values= \"Procent\", names= \"Tag_name\", title=\"Tags/Model count\")\n",
    "fig_pie.show()"
   ]
  },
  {
   "cell_type": "code",
   "execution_count": 45,
   "metadata": {},
   "outputs": [],
   "source": [
    "top_tags = [\"Writing\", \"Graphic Design\", \"Web & App Dev\", \"Programming\", \"Social Media\"]\n",
    "buf = pd.DataFrame(columns = bin_df.columns)\n",
    "for i in top_tags:\n",
    "    buf = pd.concat([buf, bin_df[bin_df[f\"Tag_{i}\"] == 1].head(5)], ignore_index= True) \n",
    "    \n",
    "final_task = buf.drop(\"card_link\", axis=1)\n",
    "final_task = final_task[[\"name\", \"product_link\", \"tags\", \"descriptions\", \"pricing_types\", \"price\", \"platforms\"]]\n",
    "final_task.to_csv(\"first_task3.csv\", index=False)\n"
   ]
  },
  {
   "cell_type": "code",
   "execution_count": null,
   "metadata": {},
   "outputs": [],
   "source": []
  }
 ],
 "metadata": {
  "kernelspec": {
   "display_name": "Python 3",
   "language": "python",
   "name": "python3"
  },
  "language_info": {
   "codemirror_mode": {
    "name": "ipython",
    "version": 3
   },
   "file_extension": ".py",
   "mimetype": "text/x-python",
   "name": "python",
   "nbconvert_exporter": "python",
   "pygments_lexer": "ipython3",
   "version": "3.10.0"
  }
 },
 "nbformat": 4,
 "nbformat_minor": 2
}
